{
 "cells": [
  {
   "cell_type": "markdown",
   "metadata": {},
   "source": [
    "# Forecasting Electricity Prices for DK\n",
    "                                                                 \n",
    "\n",
    "**Project aim: Create a model that can forecast electricity prices for DK with minimum errors as possiple**"
   ]
  },
  {
   "cell_type": "markdown",
   "metadata": {},
   "source": [
    "## Project description"
   ]
  },
  {
   "cell_type": "markdown",
   "metadata": {},
   "source": [
    "### Data Sources"
   ]
  },
  {
   "cell_type": "markdown",
   "metadata": {},
   "source": [
    "                \n",
    "**day-ahead electricity price** \n",
    "\n",
    "[data from ENTSOE](https://transparency.entsoe.eu/load-domain/r2/totalLoadR2/show?name=&defaultValue=true&viewType=TABLE&areaType=BZN&atch=false&dateTime.dateTime=06.11.2020+00:00|CET|DAY&biddingZone.values=CTY|10Y1001A1001A83F!BZN|10Y1001A1001A82H&dateTime.timezone=CET_CEST&dateTime.timezone_input=CET+(UTC+1)+/+CEST+(UTC+2))\n",
    "\n",
    "**historical weather of Denmark**\n",
    "purchased from openweather\n",
    "\n",
    "**future weather of Denmark**\n",
    "requested from openweather API\n",
    "\n",
    "features integrated into the sarimax:                         \n",
    "1. wind_speed\n",
    "2. holidays and the holiday is weekend\n",
    "3. temperature\n",
    "4. humidity\n",
    "\n",
    "features explored but don't contribute to forecasting accuracy:                  \n",
    "1. clouds\n",
    "2. load\n",
    "3. total production\n",
    "4. production by wind\n",
    "5. wind production / total production"
   ]
  },
  {
   "cell_type": "markdown",
   "metadata": {},
   "source": [
    "### references"
   ]
  },
  {
   "cell_type": "markdown",
   "metadata": {},
   "source": [
    "- **github repo**            \n",
    "[load forecasting repo on github](https://github.com/nicholasjhana/short-term-energy-demand-forecasting)  \n",
    "This repo compares the performances of LSTM, Prophet and SARIMA on load forcasting    \n",
    "[high quality detailed electricity price predictor repo](https://github.com/dannychua/Electricity-Price-Predictor)                 \n",
    "[comparing different models for load  forecasting](https://towardsdatascience.com/predicting-electricity-demand-in-la-outperforming-the-government-a0921463fde8)         \n",
    "[price forecasting kaggle](https://www.kaggle.com/dimitriosroussis/electricity-price-forecasting-with-dnns-eda#Electricity-Price-Forecasting-with-Deep-Neural-Networks)\n",
    "\n",
    "- **basic concepts**                  \n",
    "[energy forcasting (load and prices)](https://en.wikipedia.org/wiki/Energy_forecasting)\n",
    "\n",
    "- **publications**     \n",
    "[High-Resolution Electricity Spot Price Forecast for the Danish Power Market](https://sci-hub.se/https://www.mdpi.com/2071-1050/12/10/4267)            \n",
    "This paper presents a **linear model** based on consumption, thermal power production, wind production and previous electricity\n",
    "prices.                     \n",
    "[Electricity Price Forecasting in the Danish Day-Ahead Market Using the TBATS, ANN and ARIMA Methods](https://sci-hub.se/https://www.mdpi.com/1996-1073/12/5/928)                          \n",
    "This paper compared TBATS, ANN and ARIMA methods.                    \n",
    "[A seasonal feedforward neural network to forecast\n",
    "electricity prices](https://sci-hub.se/https://link.springer.com/article/10.1007%2Fs00521-016-2356-y)                   \n",
    "This paper presents a **SAR-NN model** which is an ANN-based autoregressive model. MAPE 3-6%                                       \n",
    "[Statistical and Machine Learning forecasting methods: Concerns and ways forward](https://sci-hub.se/https://journals.plos.org/plosone/article?id=10.1371/journal.pone.0194889)   \n",
    "[Deep Learning-Based Short-Term Load Forecasting for Supporting Demand Response Program in Hybrid Energy System](https://www.mdpi.com/1996-1073/12/17/3359)"
   ]
  },
  {
   "cell_type": "code",
   "execution_count": 2,
   "metadata": {},
   "outputs": [
    {
     "data": {
      "text/html": [
       "<div>\n",
       "<style scoped>\n",
       "    .dataframe tbody tr th:only-of-type {\n",
       "        vertical-align: middle;\n",
       "    }\n",
       "\n",
       "    .dataframe tbody tr th {\n",
       "        vertical-align: top;\n",
       "    }\n",
       "\n",
       "    .dataframe thead th {\n",
       "        text-align: right;\n",
       "    }\n",
       "</style>\n",
       "<table border=\"1\" class=\"dataframe\">\n",
       "  <thead>\n",
       "    <tr style=\"text-align: right;\">\n",
       "      <th></th>\n",
       "      <th>MAPE</th>\n",
       "      <th>MASE</th>\n",
       "    </tr>\n",
       "  </thead>\n",
       "  <tbody>\n",
       "    <tr>\n",
       "      <th>Makridakis's et al</th>\n",
       "      <td>11.28 %</td>\n",
       "      <td>0.89</td>\n",
       "    </tr>\n",
       "    <tr>\n",
       "      <th>Our SARIMAX</th>\n",
       "      <td>9.93 %</td>\n",
       "      <td>0.53</td>\n",
       "    </tr>\n",
       "  </tbody>\n",
       "</table>\n",
       "</div>"
      ],
      "text/plain": [
       "                       MAPE  MASE\n",
       "Makridakis's et al  11.28 %  0.89\n",
       "Our SARIMAX          9.93 %  0.53"
      ]
     },
     "execution_count": 2,
     "metadata": {},
     "output_type": "execute_result"
    }
   ],
   "source": [
    "import pandas as pd\n",
    "pd.DataFrame({'MAPE':['11.28 %', '9.93 %'], 'MASE':[0.89, 0.53]}, \n",
    "             index=[\"Makridakis's et al\", \"Our SARIMAX\"])"
   ]
  }
 ],
 "metadata": {
  "kernelspec": {
   "display_name": "Python 3",
   "language": "python",
   "name": "python3"
  },
  "language_info": {
   "codemirror_mode": {
    "name": "ipython",
    "version": 3
   },
   "file_extension": ".py",
   "mimetype": "text/x-python",
   "name": "python",
   "nbconvert_exporter": "python",
   "pygments_lexer": "ipython3",
   "version": "3.7.7"
  },
  "toc": {
   "base_numbering": 1,
   "nav_menu": {},
   "number_sections": true,
   "sideBar": true,
   "skip_h1_title": false,
   "title_cell": "Table of Contents",
   "title_sidebar": "Contents",
   "toc_cell": false,
   "toc_position": {},
   "toc_section_display": true,
   "toc_window_display": false
  },
  "varInspector": {
   "cols": {
    "lenName": 16,
    "lenType": 16,
    "lenVar": 40
   },
   "kernels_config": {
    "python": {
     "delete_cmd_postfix": "",
     "delete_cmd_prefix": "del ",
     "library": "var_list.py",
     "varRefreshCmd": "print(var_dic_list())"
    },
    "r": {
     "delete_cmd_postfix": ") ",
     "delete_cmd_prefix": "rm(",
     "library": "var_list.r",
     "varRefreshCmd": "cat(var_dic_list()) "
    }
   },
   "types_to_exclude": [
    "module",
    "function",
    "builtin_function_or_method",
    "instance",
    "_Feature"
   ],
   "window_display": false
  }
 },
 "nbformat": 4,
 "nbformat_minor": 4
}
