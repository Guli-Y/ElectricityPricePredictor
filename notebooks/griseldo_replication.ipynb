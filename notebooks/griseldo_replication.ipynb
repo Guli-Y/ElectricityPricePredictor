{
 "cells": [
  {
   "cell_type": "markdown",
   "metadata": {},
   "source": [
    "## Replication of electricity price forecasting"
   ]
  },
  {
   "cell_type": "markdown",
   "metadata": {},
   "source": [
    "### Days of the week/ Holidays"
   ]
  },
  {
   "cell_type": "code",
   "execution_count": 6,
   "metadata": {
    "ExecuteTime": {
     "end_time": "2020-12-03T12:44:11.897866Z",
     "start_time": "2020-12-03T12:44:09.249077Z"
    }
   },
   "outputs": [],
   "source": [
    "from electricity_price_predictor.data import file_names, get_new_price, get_shifted_price_test\n",
    "from sklearn.preprocessing import MinMaxScaler\n",
    "from sklearn.linear_model import LinearRegression\n",
    "import statsmodels.api as sm\n",
    "import statsmodels.formula.api as smf\n",
    "import pandas as pd\n",
    "import seaborn as sns\n",
    "import matplotlib.pyplot as plt\n",
    "from statsmodels.stats.outliers_influence import variance_inflation_factor as vif"
   ]
  },
  {
   "cell_type": "code",
   "execution_count": 10,
   "metadata": {
    "ExecuteTime": {
     "end_time": "2020-12-03T12:44:39.759631Z",
     "start_time": "2020-12-03T12:44:39.751135Z"
    }
   },
   "outputs": [
    {
     "data": {
      "text/plain": [
       "[]"
      ]
     },
     "execution_count": 10,
     "metadata": {},
     "output_type": "execute_result"
    }
   ],
   "source": [
    "files = file_names(path='tests')\n",
    "files"
   ]
  },
  {
   "cell_type": "code",
   "execution_count": 2,
   "metadata": {
    "ExecuteTime": {
     "end_time": "2020-12-03T11:43:48.585592Z",
     "start_time": "2020-12-03T11:43:45.535479Z"
    }
   },
   "outputs": [
    {
     "data": {
      "text/html": [
       "<div>\n",
       "<style scoped>\n",
       "    .dataframe tbody tr th:only-of-type {\n",
       "        vertical-align: middle;\n",
       "    }\n",
       "\n",
       "    .dataframe tbody tr th {\n",
       "        vertical-align: top;\n",
       "    }\n",
       "\n",
       "    .dataframe thead th {\n",
       "        text-align: right;\n",
       "    }\n",
       "</style>\n",
       "<table border=\"1\" class=\"dataframe\">\n",
       "  <thead>\n",
       "    <tr style=\"text-align: right;\">\n",
       "      <th></th>\n",
       "      <th>price</th>\n",
       "    </tr>\n",
       "    <tr>\n",
       "      <th>time</th>\n",
       "      <th></th>\n",
       "    </tr>\n",
       "  </thead>\n",
       "  <tbody>\n",
       "    <tr>\n",
       "      <th>2015-01-01 00:00:00</th>\n",
       "      <td>25.02</td>\n",
       "    </tr>\n",
       "    <tr>\n",
       "      <th>2015-01-01 01:00:00</th>\n",
       "      <td>18.29</td>\n",
       "    </tr>\n",
       "    <tr>\n",
       "      <th>2015-01-01 02:00:00</th>\n",
       "      <td>16.04</td>\n",
       "    </tr>\n",
       "    <tr>\n",
       "      <th>2015-01-01 03:00:00</th>\n",
       "      <td>14.6</td>\n",
       "    </tr>\n",
       "    <tr>\n",
       "      <th>2015-01-01 04:00:00</th>\n",
       "      <td>14.95</td>\n",
       "    </tr>\n",
       "    <tr>\n",
       "      <th>...</th>\n",
       "      <td>...</td>\n",
       "    </tr>\n",
       "    <tr>\n",
       "      <th>2020-12-03 19:00:00</th>\n",
       "      <td>24.59</td>\n",
       "    </tr>\n",
       "    <tr>\n",
       "      <th>2020-12-03 20:00:00</th>\n",
       "      <td>18.90</td>\n",
       "    </tr>\n",
       "    <tr>\n",
       "      <th>2020-12-03 21:00:00</th>\n",
       "      <td>18.33</td>\n",
       "    </tr>\n",
       "    <tr>\n",
       "      <th>2020-12-03 22:00:00</th>\n",
       "      <td>16.18</td>\n",
       "    </tr>\n",
       "    <tr>\n",
       "      <th>2020-12-03 23:00:00</th>\n",
       "      <td>13.00</td>\n",
       "    </tr>\n",
       "  </tbody>\n",
       "</table>\n",
       "<p>51936 rows × 1 columns</p>\n",
       "</div>"
      ],
      "text/plain": [
       "                     price\n",
       "time                      \n",
       "2015-01-01 00:00:00  25.02\n",
       "2015-01-01 01:00:00  18.29\n",
       "2015-01-01 02:00:00  16.04\n",
       "2015-01-01 03:00:00   14.6\n",
       "2015-01-01 04:00:00  14.95\n",
       "...                    ...\n",
       "2020-12-03 19:00:00  24.59\n",
       "2020-12-03 20:00:00  18.90\n",
       "2020-12-03 21:00:00  18.33\n",
       "2020-12-03 22:00:00  16.18\n",
       "2020-12-03 23:00:00  13.00\n",
       "\n",
       "[51936 rows x 1 columns]"
      ]
     },
     "execution_count": 2,
     "metadata": {},
     "output_type": "execute_result"
    }
   ],
   "source": [
    "get_shifted_price_test()"
   ]
  },
  {
   "cell_type": "code",
   "execution_count": 9,
   "metadata": {
    "ExecuteTime": {
     "end_time": "2020-12-02T14:55:45.732713Z",
     "start_time": "2020-12-02T14:55:45.719100Z"
    }
   },
   "outputs": [],
   "source": [
    "\n",
    "from datetime import datetime, timedelta\n",
    "start = datetime(2020, 12, 3)\n",
    "stop = start + timedelta(days=1)"
   ]
  },
  {
   "cell_type": "code",
   "execution_count": 10,
   "metadata": {
    "ExecuteTime": {
     "end_time": "2020-12-02T14:55:53.703617Z",
     "start_time": "2020-12-02T14:55:47.139298Z"
    }
   },
   "outputs": [
    {
     "data": {
      "text/html": [
       "<div>\n",
       "<style scoped>\n",
       "    .dataframe tbody tr th:only-of-type {\n",
       "        vertical-align: middle;\n",
       "    }\n",
       "\n",
       "    .dataframe tbody tr th {\n",
       "        vertical-align: top;\n",
       "    }\n",
       "\n",
       "    .dataframe thead th {\n",
       "        text-align: right;\n",
       "    }\n",
       "</style>\n",
       "<table border=\"1\" class=\"dataframe\">\n",
       "  <thead>\n",
       "    <tr style=\"text-align: right;\">\n",
       "      <th></th>\n",
       "      <th>price</th>\n",
       "    </tr>\n",
       "  </thead>\n",
       "  <tbody>\n",
       "    <tr>\n",
       "      <th>2020-12-03 00:00</th>\n",
       "      <td>9.23</td>\n",
       "    </tr>\n",
       "    <tr>\n",
       "      <th>2020-12-03 01:00</th>\n",
       "      <td>8.48</td>\n",
       "    </tr>\n",
       "    <tr>\n",
       "      <th>2020-12-03 02:00</th>\n",
       "      <td>8.19</td>\n",
       "    </tr>\n",
       "    <tr>\n",
       "      <th>2020-12-03 03:00</th>\n",
       "      <td>8.35</td>\n",
       "    </tr>\n",
       "    <tr>\n",
       "      <th>2020-12-03 04:00</th>\n",
       "      <td>8.94</td>\n",
       "    </tr>\n",
       "    <tr>\n",
       "      <th>2020-12-03 05:00</th>\n",
       "      <td>12.90</td>\n",
       "    </tr>\n",
       "    <tr>\n",
       "      <th>2020-12-03 06:00</th>\n",
       "      <td>17.90</td>\n",
       "    </tr>\n",
       "    <tr>\n",
       "      <th>2020-12-03 07:00</th>\n",
       "      <td>46.71</td>\n",
       "    </tr>\n",
       "    <tr>\n",
       "      <th>2020-12-03 08:00</th>\n",
       "      <td>61.07</td>\n",
       "    </tr>\n",
       "    <tr>\n",
       "      <th>2020-12-03 09:00</th>\n",
       "      <td>54.32</td>\n",
       "    </tr>\n",
       "    <tr>\n",
       "      <th>2020-12-03 10:00</th>\n",
       "      <td>46.53</td>\n",
       "    </tr>\n",
       "    <tr>\n",
       "      <th>2020-12-03 11:00</th>\n",
       "      <td>55.08</td>\n",
       "    </tr>\n",
       "    <tr>\n",
       "      <th>2020-12-03 12:00</th>\n",
       "      <td>49.83</td>\n",
       "    </tr>\n",
       "    <tr>\n",
       "      <th>2020-12-03 13:00</th>\n",
       "      <td>56.74</td>\n",
       "    </tr>\n",
       "    <tr>\n",
       "      <th>2020-12-03 14:00</th>\n",
       "      <td>54.39</td>\n",
       "    </tr>\n",
       "    <tr>\n",
       "      <th>2020-12-03 15:00</th>\n",
       "      <td>51.33</td>\n",
       "    </tr>\n",
       "    <tr>\n",
       "      <th>2020-12-03 16:00</th>\n",
       "      <td>50.28</td>\n",
       "    </tr>\n",
       "    <tr>\n",
       "      <th>2020-12-03 17:00</th>\n",
       "      <td>52.94</td>\n",
       "    </tr>\n",
       "    <tr>\n",
       "      <th>2020-12-03 18:00</th>\n",
       "      <td>38.04</td>\n",
       "    </tr>\n",
       "    <tr>\n",
       "      <th>2020-12-03 19:00</th>\n",
       "      <td>24.59</td>\n",
       "    </tr>\n",
       "    <tr>\n",
       "      <th>2020-12-03 20:00</th>\n",
       "      <td>18.90</td>\n",
       "    </tr>\n",
       "    <tr>\n",
       "      <th>2020-12-03 21:00</th>\n",
       "      <td>18.33</td>\n",
       "    </tr>\n",
       "    <tr>\n",
       "      <th>2020-12-03 22:00</th>\n",
       "      <td>16.18</td>\n",
       "    </tr>\n",
       "    <tr>\n",
       "      <th>2020-12-03 23:00</th>\n",
       "      <td>13.00</td>\n",
       "    </tr>\n",
       "  </tbody>\n",
       "</table>\n",
       "</div>"
      ],
      "text/plain": [
       "                  price\n",
       "2020-12-03 00:00   9.23\n",
       "2020-12-03 01:00   8.48\n",
       "2020-12-03 02:00   8.19\n",
       "2020-12-03 03:00   8.35\n",
       "2020-12-03 04:00   8.94\n",
       "2020-12-03 05:00  12.90\n",
       "2020-12-03 06:00  17.90\n",
       "2020-12-03 07:00  46.71\n",
       "2020-12-03 08:00  61.07\n",
       "2020-12-03 09:00  54.32\n",
       "2020-12-03 10:00  46.53\n",
       "2020-12-03 11:00  55.08\n",
       "2020-12-03 12:00  49.83\n",
       "2020-12-03 13:00  56.74\n",
       "2020-12-03 14:00  54.39\n",
       "2020-12-03 15:00  51.33\n",
       "2020-12-03 16:00  50.28\n",
       "2020-12-03 17:00  52.94\n",
       "2020-12-03 18:00  38.04\n",
       "2020-12-03 19:00  24.59\n",
       "2020-12-03 20:00  18.90\n",
       "2020-12-03 21:00  18.33\n",
       "2020-12-03 22:00  16.18\n",
       "2020-12-03 23:00  13.00"
      ]
     },
     "execution_count": 10,
     "metadata": {},
     "output_type": "execute_result"
    }
   ],
   "source": [
    "get_new_price(start, stop)"
   ]
  },
  {
   "cell_type": "code",
   "execution_count": 2,
   "metadata": {
    "ExecuteTime": {
     "end_time": "2020-11-30T09:16:00.529330Z",
     "start_time": "2020-11-30T09:16:00.523322Z"
    }
   },
   "outputs": [],
   "source": [
    "last_date = '2020-11-23 00:00:00'\n",
    "first_date = '2015-11-25 00:00:00'"
   ]
  },
  {
   "cell_type": "code",
   "execution_count": null,
   "metadata": {
    "ExecuteTime": {
     "end_time": "2020-11-30T08:11:14.097386Z",
     "start_time": "2020-11-30T08:10:41.821336Z"
    }
   },
   "outputs": [],
   "source": [
    "df  = get_all()"
   ]
  },
  {
   "cell_type": "code",
   "execution_count": null,
   "metadata": {
    "ExecuteTime": {
     "end_time": "2020-11-30T08:11:31.340230Z",
     "start_time": "2020-11-30T08:11:31.293164Z"
    }
   },
   "outputs": [],
   "source": [
    "df"
   ]
  },
  {
   "cell_type": "code",
   "execution_count": 3,
   "metadata": {
    "ExecuteTime": {
     "end_time": "2020-11-30T09:16:49.467735Z",
     "start_time": "2020-11-30T09:16:03.336722Z"
    }
   },
   "outputs": [],
   "source": [
    "dayofweek = get_days_dummies().loc[first_date:last_date]\n",
    "holidays = get_holidays().loc[first_date:last_date]\n",
    "weather = get_weather().loc[first_date:last_date]\n",
    "price = get_shifted_price().loc[first_date:last_date]\n",
    "load = get_shifted_load().loc[first_date:last_date]\n",
    "coal = get_coal_price().loc[first_date:last_date]\n",
    "wind = get_wind_prod().loc[first_date:last_date]"
   ]
  },
  {
   "cell_type": "code",
   "execution_count": null,
   "metadata": {
    "ExecuteTime": {
     "end_time": "2020-11-30T08:13:24.913622Z",
     "start_time": "2020-11-30T08:13:24.897126Z"
    }
   },
   "outputs": [],
   "source": [
    "# df = df.loc[first_date:last_date]"
   ]
  },
  {
   "cell_type": "code",
   "execution_count": null,
   "metadata": {
    "ExecuteTime": {
     "end_time": "2020-11-30T08:13:31.241557Z",
     "start_time": "2020-11-30T08:13:31.211480Z"
    }
   },
   "outputs": [],
   "source": [
    "# df"
   ]
  },
  {
   "cell_type": "code",
   "execution_count": 4,
   "metadata": {
    "ExecuteTime": {
     "end_time": "2020-11-30T09:16:49.718839Z",
     "start_time": "2020-11-30T09:16:49.699757Z"
    }
   },
   "outputs": [],
   "source": [
    "# merge price and load into one df\n",
    "df = price.merge(load, on='time')"
   ]
  },
  {
   "cell_type": "markdown",
   "metadata": {},
   "source": [
    "## Downsample"
   ]
  },
  {
   "cell_type": "code",
   "execution_count": null,
   "metadata": {
    "ExecuteTime": {
     "end_time": "2020-11-27T15:21:21.417652Z",
     "start_time": "2020-11-27T15:21:21.365722Z"
    }
   },
   "outputs": [],
   "source": [
    "# weather_D = weather[weather.index.hour==11]\n",
    "# weather "
   ]
  },
  {
   "cell_type": "code",
   "execution_count": 5,
   "metadata": {
    "ExecuteTime": {
     "end_time": "2020-11-30T09:16:50.059749Z",
     "start_time": "2020-11-30T09:16:49.993737Z"
    }
   },
   "outputs": [],
   "source": [
    "weather = weather.resample('D').mean()\n",
    "weather = weather.reset_index().drop('dt', axis=1)"
   ]
  },
  {
   "cell_type": "code",
   "execution_count": null,
   "metadata": {
    "ExecuteTime": {
     "end_time": "2020-11-27T15:22:37.502281Z",
     "start_time": "2020-11-27T15:22:37.468011Z"
    }
   },
   "outputs": [],
   "source": [
    "weather"
   ]
  },
  {
   "cell_type": "code",
   "execution_count": 6,
   "metadata": {
    "ExecuteTime": {
     "end_time": "2020-11-30T09:16:50.309734Z",
     "start_time": "2020-11-30T09:16:50.296765Z"
    }
   },
   "outputs": [],
   "source": [
    "df = df.resample('D').mean()\n",
    "df = df.reset_index().drop('time', axis=1)"
   ]
  },
  {
   "cell_type": "code",
   "execution_count": 7,
   "metadata": {
    "ExecuteTime": {
     "end_time": "2020-11-30T09:16:50.622346Z",
     "start_time": "2020-11-30T09:16:50.616379Z"
    }
   },
   "outputs": [],
   "source": [
    "dayofweek = dayofweek.reset_index().drop('index', axis=1)\n",
    "holidays = holidays.reset_index().drop('index', axis=1)"
   ]
  },
  {
   "cell_type": "code",
   "execution_count": 8,
   "metadata": {
    "ExecuteTime": {
     "end_time": "2020-11-30T09:16:50.850373Z",
     "start_time": "2020-11-30T09:16:50.833343Z"
    }
   },
   "outputs": [
    {
     "data": {
      "text/html": [
       "<div>\n",
       "<style scoped>\n",
       "    .dataframe tbody tr th:only-of-type {\n",
       "        vertical-align: middle;\n",
       "    }\n",
       "\n",
       "    .dataframe tbody tr th {\n",
       "        vertical-align: top;\n",
       "    }\n",
       "\n",
       "    .dataframe thead th {\n",
       "        text-align: right;\n",
       "    }\n",
       "</style>\n",
       "<table border=\"1\" class=\"dataframe\">\n",
       "  <thead>\n",
       "    <tr style=\"text-align: right;\">\n",
       "      <th></th>\n",
       "      <th>holiday</th>\n",
       "      <th>holiday_name</th>\n",
       "    </tr>\n",
       "  </thead>\n",
       "  <tbody>\n",
       "    <tr>\n",
       "      <th>0</th>\n",
       "      <td>0</td>\n",
       "      <td>None</td>\n",
       "    </tr>\n",
       "    <tr>\n",
       "      <th>1</th>\n",
       "      <td>0</td>\n",
       "      <td>None</td>\n",
       "    </tr>\n",
       "    <tr>\n",
       "      <th>2</th>\n",
       "      <td>0</td>\n",
       "      <td>None</td>\n",
       "    </tr>\n",
       "    <tr>\n",
       "      <th>3</th>\n",
       "      <td>0</td>\n",
       "      <td>None</td>\n",
       "    </tr>\n",
       "    <tr>\n",
       "      <th>4</th>\n",
       "      <td>0</td>\n",
       "      <td>None</td>\n",
       "    </tr>\n",
       "    <tr>\n",
       "      <th>...</th>\n",
       "      <td>...</td>\n",
       "      <td>...</td>\n",
       "    </tr>\n",
       "    <tr>\n",
       "      <th>1821</th>\n",
       "      <td>0</td>\n",
       "      <td>None</td>\n",
       "    </tr>\n",
       "    <tr>\n",
       "      <th>1822</th>\n",
       "      <td>0</td>\n",
       "      <td>None</td>\n",
       "    </tr>\n",
       "    <tr>\n",
       "      <th>1823</th>\n",
       "      <td>0</td>\n",
       "      <td>None</td>\n",
       "    </tr>\n",
       "    <tr>\n",
       "      <th>1824</th>\n",
       "      <td>0</td>\n",
       "      <td>None</td>\n",
       "    </tr>\n",
       "    <tr>\n",
       "      <th>1825</th>\n",
       "      <td>0</td>\n",
       "      <td>None</td>\n",
       "    </tr>\n",
       "  </tbody>\n",
       "</table>\n",
       "<p>1826 rows × 2 columns</p>\n",
       "</div>"
      ],
      "text/plain": [
       "      holiday holiday_name\n",
       "0           0         None\n",
       "1           0         None\n",
       "2           0         None\n",
       "3           0         None\n",
       "4           0         None\n",
       "...       ...          ...\n",
       "1821        0         None\n",
       "1822        0         None\n",
       "1823        0         None\n",
       "1824        0         None\n",
       "1825        0         None\n",
       "\n",
       "[1826 rows x 2 columns]"
      ]
     },
     "execution_count": 8,
     "metadata": {},
     "output_type": "execute_result"
    }
   ],
   "source": [
    "holidays"
   ]
  },
  {
   "cell_type": "code",
   "execution_count": null,
   "metadata": {
    "ExecuteTime": {
     "end_time": "2020-11-30T09:11:27.719922Z",
     "start_time": "2020-11-30T09:11:27.706370Z"
    }
   },
   "outputs": [],
   "source": [
    "coal = coal.resample('D').mean()\n",
    "coal = coal.reset_index().drop('time', axis=1)"
   ]
  },
  {
   "cell_type": "code",
   "execution_count": null,
   "metadata": {
    "ExecuteTime": {
     "end_time": "2020-11-30T09:12:00.612001Z",
     "start_time": "2020-11-30T09:12:00.603473Z"
    }
   },
   "outputs": [],
   "source": [
    "print(f\"'holidays:' {holidays.shape}\")\n",
    "print(f\"'day of week:' {dayofweek.shape}\")\n",
    "print(f\"'weather:' {weather.shape}\")\n",
    "print(f\"'price, load:' {df.shape}\")\n",
    "print(f\"'coal:' {coal.shape}\")\n",
    "print(f\"'wind:' {wind.shape}\")"
   ]
  },
  {
   "cell_type": "markdown",
   "metadata": {},
   "source": [
    "## Merging dataframes"
   ]
  },
  {
   "cell_type": "code",
   "execution_count": null,
   "metadata": {
    "ExecuteTime": {
     "end_time": "2020-11-30T09:13:56.115658Z",
     "start_time": "2020-11-30T09:13:56.051707Z"
    }
   },
   "outputs": [],
   "source": [
    "df = df.join(coal).join(\n",
    "    holidays).join(\n",
    "    dayofweek).join(\n",
    "    weather).drop('holiday_name', axis=1)\n",
    "\n",
    "# df['holiday_bool'] = df['holiday_bool'].astype('int64')"
   ]
  },
  {
   "cell_type": "code",
   "execution_count": null,
   "metadata": {
    "ExecuteTime": {
     "end_time": "2020-11-27T12:57:28.733087Z",
     "start_time": "2020-11-27T12:57:28.713031Z"
    }
   },
   "outputs": [],
   "source": [
    "# df = df.merge(\n",
    "#     holidays, right_index= True, left_index=True).merge(\n",
    "#     dayofweek, right_index= True, left_index=True).merge(\n",
    "#     weather, right_index= True, left_index= True).merge(\n",
    "#     coal, right_index=True, left_index=True).drop('holiday_name', axis=1)\n",
    "\n",
    "# df['holiday_bool'] = df['holiday_bool'].astype('int64')"
   ]
  },
  {
   "cell_type": "code",
   "execution_count": null,
   "metadata": {
    "ExecuteTime": {
     "end_time": "2020-11-27T15:27:16.106015Z",
     "start_time": "2020-11-27T15:27:16.027664Z"
    }
   },
   "outputs": [],
   "source": [
    "df"
   ]
  },
  {
   "cell_type": "code",
   "execution_count": null,
   "metadata": {
    "ExecuteTime": {
     "end_time": "2020-11-30T08:15:32.523468Z",
     "start_time": "2020-11-30T08:15:32.510928Z"
    }
   },
   "outputs": [],
   "source": [
    "def shift_by_days(data, num_days):\n",
    "    \"\"\"\n",
    "    Input a timeseries of the form 24 hourly measurements per day\n",
    "    \n",
    "    Output returns \n",
    "    \n",
    "    \"\"\"\n",
    "    data_shifted = data.shift(num_days)\n",
    "    \n",
    "    return data_shifted"
   ]
  },
  {
   "cell_type": "code",
   "execution_count": null,
   "metadata": {
    "ExecuteTime": {
     "end_time": "2020-11-30T08:15:42.610800Z",
     "start_time": "2020-11-30T08:15:42.579069Z"
    }
   },
   "outputs": [],
   "source": [
    "df['price_t_1'] = shift_by_days(df['price'], 1)"
   ]
  },
  {
   "cell_type": "code",
   "execution_count": null,
   "metadata": {
    "ExecuteTime": {
     "end_time": "2020-11-30T08:15:45.478054Z",
     "start_time": "2020-11-30T08:15:45.459970Z"
    }
   },
   "outputs": [],
   "source": [
    "df['price_t_7'] = shift_by_days(df['price'], 7)"
   ]
  },
  {
   "cell_type": "code",
   "execution_count": null,
   "metadata": {
    "ExecuteTime": {
     "end_time": "2020-11-30T08:15:47.826938Z",
     "start_time": "2020-11-30T08:15:47.805091Z"
    }
   },
   "outputs": [],
   "source": [
    "df = df.dropna()"
   ]
  },
  {
   "cell_type": "code",
   "execution_count": null,
   "metadata": {
    "ExecuteTime": {
     "end_time": "2020-11-30T08:15:48.638972Z",
     "start_time": "2020-11-30T08:15:48.603230Z"
    }
   },
   "outputs": [],
   "source": [
    "df"
   ]
  },
  {
   "cell_type": "code",
   "execution_count": null,
   "metadata": {
    "ExecuteTime": {
     "end_time": "2020-11-30T08:43:55.280573Z",
     "start_time": "2020-11-30T08:43:55.273572Z"
    }
   },
   "outputs": [],
   "source": [
    "df_new = df[[ 'coal_price', 'holiday', 'total_prod', 'feels_like',\n",
    "        'wind_share', 'price_t_7', 'price_t_1']]"
   ]
  },
  {
   "cell_type": "code",
   "execution_count": null,
   "metadata": {
    "ExecuteTime": {
     "end_time": "2020-11-30T08:16:02.043296Z",
     "start_time": "2020-11-30T08:16:01.823842Z"
    }
   },
   "outputs": [],
   "source": [
    "df.corr().style.background_gradient(cmap='coolwarm')"
   ]
  },
  {
   "cell_type": "code",
   "execution_count": null,
   "metadata": {
    "ExecuteTime": {
     "end_time": "2020-11-30T08:16:32.172592Z",
     "start_time": "2020-11-30T08:16:32.042117Z"
    }
   },
   "outputs": [],
   "source": [
    "df1 = pd.DataFrame()\n",
    "df1[\"vif_index\"] = [vif(df.values, i) for i in range(df.shape[1])]\n",
    "df1[\"features\"] = df.columns\n",
    "df1[['features', 'vif_index']].sort_values(by='vif_index', ascending=False)"
   ]
  },
  {
   "cell_type": "code",
   "execution_count": null,
   "metadata": {
    "ExecuteTime": {
     "end_time": "2020-11-30T08:43:57.609502Z",
     "start_time": "2020-11-30T08:43:57.569464Z"
    }
   },
   "outputs": [],
   "source": [
    "df1 = pd.DataFrame()\n",
    "df1[\"vif_index\"] = [vif(df_new.values, i) for i in range(df_new.shape[1])]\n",
    "df1[\"features\"] = df_new.columns\n",
    "df1[['features', 'vif_index']].sort_values(by='vif_index', ascending=False)"
   ]
  },
  {
   "cell_type": "markdown",
   "metadata": {},
   "source": [
    "## Define features and scale"
   ]
  },
  {
   "cell_type": "code",
   "execution_count": null,
   "metadata": {
    "ExecuteTime": {
     "end_time": "2020-11-30T08:36:13.399316Z",
     "start_time": "2020-11-30T08:36:13.393290Z"
    }
   },
   "outputs": [],
   "source": [
    "X = df.drop(['price'], axis=1)\n",
    "y = df.price"
   ]
  },
  {
   "cell_type": "code",
   "execution_count": null,
   "metadata": {
    "ExecuteTime": {
     "end_time": "2020-11-30T08:36:15.889741Z",
     "start_time": "2020-11-30T08:36:15.879716Z"
    }
   },
   "outputs": [],
   "source": [
    "scaler = MinMaxScaler()\n",
    "X_scaled = scaler.fit_transform(X)"
   ]
  },
  {
   "cell_type": "markdown",
   "metadata": {},
   "source": [
    "## Data visualization"
   ]
  },
  {
   "cell_type": "code",
   "execution_count": null,
   "metadata": {
    "ExecuteTime": {
     "end_time": "2020-11-27T14:49:22.233685Z",
     "start_time": "2020-11-27T14:49:22.152849Z"
    }
   },
   "outputs": [],
   "source": [
    "df.describe().applymap(lambda x: round(x))"
   ]
  },
  {
   "cell_type": "code",
   "execution_count": null,
   "metadata": {
    "ExecuteTime": {
     "end_time": "2020-11-27T14:49:31.479540Z",
     "start_time": "2020-11-27T14:49:31.331292Z"
    }
   },
   "outputs": [],
   "source": [
    "df[['price']].boxplot()"
   ]
  },
  {
   "cell_type": "code",
   "execution_count": null,
   "metadata": {
    "ExecuteTime": {
     "end_time": "2020-11-27T16:01:16.914690Z",
     "start_time": "2020-11-27T16:01:16.391636Z"
    }
   },
   "outputs": [],
   "source": [
    "plt.figure(figsize=(10, 5))\n",
    "\n",
    "\n",
    "plt.title('Seaborn')\n",
    "sns.histplot(df['price'], kde=True);\n",
    "sns.histplot(df['coal_price'], kde=True)"
   ]
  },
  {
   "cell_type": "code",
   "execution_count": null,
   "metadata": {
    "ExecuteTime": {
     "end_time": "2020-11-27T16:01:21.417394Z",
     "start_time": "2020-11-27T16:01:20.279578Z"
    }
   },
   "outputs": [],
   "source": [
    "plt.figure(figsize=(15,10))\n",
    "plt.subplot(2,2,1)\n",
    "sns.regplot('price_t_1', 'price', data=df, ci=95)\n",
    "plt.subplot(2,2,2)\n",
    "sns.regplot('coal_price', 'price', data=df.sample(10), ci=95)"
   ]
  },
  {
   "cell_type": "code",
   "execution_count": null,
   "metadata": {
    "ExecuteTime": {
     "end_time": "2020-11-27T16:01:02.178497Z",
     "start_time": "2020-11-27T16:01:01.856461Z"
    }
   },
   "outputs": [],
   "source": [
    "sns.scatterplot(x='coal_price', y='price', data=df)"
   ]
  },
  {
   "cell_type": "code",
   "execution_count": null,
   "metadata": {
    "ExecuteTime": {
     "end_time": "2020-11-27T16:01:26.337612Z",
     "start_time": "2020-11-27T16:01:25.719933Z"
    }
   },
   "outputs": [],
   "source": [
    "sns.regplot('coal_price', 'price', data=df)"
   ]
  },
  {
   "cell_type": "markdown",
   "metadata": {},
   "source": [
    "## Model\n"
   ]
  },
  {
   "cell_type": "markdown",
   "metadata": {},
   "source": [
    "### LinearReg Sklearn"
   ]
  },
  {
   "cell_type": "code",
   "execution_count": 2,
   "metadata": {
    "ExecuteTime": {
     "end_time": "2020-12-01T10:49:56.350210Z",
     "start_time": "2020-12-01T10:49:56.339280Z"
    }
   },
   "outputs": [
    {
     "ename": "NameError",
     "evalue": "name 'LinearRegression' is not defined",
     "output_type": "error",
     "traceback": [
      "\u001b[1;31m---------------------------------------------------------------------------\u001b[0m",
      "\u001b[1;31mNameError\u001b[0m                                 Traceback (most recent call last)",
      "\u001b[1;32m<ipython-input-2-3232bd4e5922>\u001b[0m in \u001b[0;36m<module>\u001b[1;34m\u001b[0m\n\u001b[1;32m----> 1\u001b[1;33m \u001b[0mmodel_2\u001b[0m \u001b[1;33m=\u001b[0m \u001b[0mLinearRegression\u001b[0m\u001b[1;33m(\u001b[0m\u001b[1;33m)\u001b[0m\u001b[1;33m\u001b[0m\u001b[1;33m\u001b[0m\u001b[0m\n\u001b[0m\u001b[0;32m      2\u001b[0m \u001b[0mmodel_2\u001b[0m\u001b[1;33m.\u001b[0m\u001b[0mfit\u001b[0m\u001b[1;33m(\u001b[0m\u001b[0mX_scaled\u001b[0m\u001b[1;33m,\u001b[0m \u001b[0my\u001b[0m\u001b[1;33m)\u001b[0m\u001b[1;33m\u001b[0m\u001b[1;33m\u001b[0m\u001b[0m\n\u001b[0;32m      3\u001b[0m \u001b[0mmodel_2\u001b[0m\u001b[1;33m.\u001b[0m\u001b[0mscore\u001b[0m\u001b[1;33m(\u001b[0m\u001b[0mX_scaled\u001b[0m\u001b[1;33m,\u001b[0m \u001b[0my\u001b[0m\u001b[1;33m)\u001b[0m  \u001b[1;31m# R2\u001b[0m\u001b[1;33m\u001b[0m\u001b[1;33m\u001b[0m\u001b[0m\n",
      "\u001b[1;31mNameError\u001b[0m: name 'LinearRegression' is not defined"
     ]
    }
   ],
   "source": [
    "model_2 = LinearRegression()\n",
    "model_2.fit(X_scaled, y)\n",
    "model_2.score(X_scaled, y)  # R2"
   ]
  },
  {
   "cell_type": "code",
   "execution_count": 1,
   "metadata": {
    "ExecuteTime": {
     "end_time": "2020-12-01T10:49:53.944275Z",
     "start_time": "2020-12-01T10:49:53.873248Z"
    }
   },
   "outputs": [
    {
     "ename": "NameError",
     "evalue": "name 'model_2' is not defined",
     "output_type": "error",
     "traceback": [
      "\u001b[1;31m---------------------------------------------------------------------------\u001b[0m",
      "\u001b[1;31mNameError\u001b[0m                                 Traceback (most recent call last)",
      "\u001b[1;32m<ipython-input-1-af81d3012982>\u001b[0m in \u001b[0;36m<module>\u001b[1;34m\u001b[0m\n\u001b[1;32m----> 1\u001b[1;33m \u001b[0mmodel_2\u001b[0m\u001b[1;33m.\u001b[0m\u001b[0mscore_\u001b[0m\u001b[1;33m\u001b[0m\u001b[1;33m\u001b[0m\u001b[0m\n\u001b[0m",
      "\u001b[1;31mNameError\u001b[0m: name 'model_2' is not defined"
     ]
    }
   ],
   "source": [
    "model_2.score"
   ]
  },
  {
   "cell_type": "markdown",
   "metadata": {},
   "source": [
    "### smf statsmodels"
   ]
  },
  {
   "cell_type": "code",
   "execution_count": null,
   "metadata": {
    "ExecuteTime": {
     "end_time": "2020-11-30T08:36:29.002760Z",
     "start_time": "2020-11-30T08:36:28.984156Z"
    }
   },
   "outputs": [],
   "source": [
    "col = df.columns[1:]"
   ]
  },
  {
   "cell_type": "code",
   "execution_count": null,
   "metadata": {
    "ExecuteTime": {
     "end_time": "2020-11-30T08:36:32.255627Z",
     "start_time": "2020-11-30T08:36:32.243397Z"
    }
   },
   "outputs": [],
   "source": [
    "col"
   ]
  },
  {
   "cell_type": "code",
   "execution_count": null,
   "metadata": {
    "ExecuteTime": {
     "end_time": "2020-11-27T15:28:33.791304Z",
     "start_time": "2020-11-27T15:28:33.771411Z"
    }
   },
   "outputs": [],
   "source": [
    "formula = ' + '.join(col)\n",
    "formula = f\"price ~ {formula}\"\n",
    "formula"
   ]
  },
  {
   "cell_type": "code",
   "execution_count": null,
   "metadata": {
    "ExecuteTime": {
     "end_time": "2020-11-30T08:45:44.264694Z",
     "start_time": "2020-11-30T08:45:44.211132Z"
    },
    "scrolled": true
   },
   "outputs": [],
   "source": [
    "model_3 = smf.ols('price ~ load + holiday + coal_price + feels_like + total_prod + wind_speed + price_t_1 + price_t_7', data=df).fit()\n",
    "model_3.summary()"
   ]
  },
  {
   "cell_type": "code",
   "execution_count": null,
   "metadata": {
    "ExecuteTime": {
     "end_time": "2020-11-27T16:37:05.843383Z",
     "start_time": "2020-11-27T16:37:05.799384Z"
    }
   },
   "outputs": [],
   "source": [
    "model_3_1 = smf.ols('price ~  holiday_bool + feels_like + coal_price  + clouds_all + wind_speed', data=df).fit()\n",
    "model_3_1.summary()"
   ]
  },
  {
   "cell_type": "code",
   "execution_count": null,
   "metadata": {
    "ExecuteTime": {
     "end_time": "2020-11-30T08:46:22.085027Z",
     "start_time": "2020-11-30T08:46:22.078059Z"
    }
   },
   "outputs": [],
   "source": [
    "train = df.iloc[: 1796,:]\n",
    "test = df.iloc[1796:, :]"
   ]
  },
  {
   "cell_type": "code",
   "execution_count": null,
   "metadata": {
    "ExecuteTime": {
     "end_time": "2020-11-30T08:46:23.617047Z",
     "start_time": "2020-11-30T08:46:23.552951Z"
    }
   },
   "outputs": [],
   "source": [
    "model_4 = smf.ols('price ~ load + holiday + coal_price + feels_like + total_prod + wind_speed + price_t_1 + price_t_7', data=train).fit()\n",
    "model_4.summary()"
   ]
  },
  {
   "cell_type": "code",
   "execution_count": null,
   "metadata": {
    "ExecuteTime": {
     "end_time": "2020-11-30T08:46:29.965738Z",
     "start_time": "2020-11-30T08:46:29.935004Z"
    },
    "scrolled": false
   },
   "outputs": [],
   "source": [
    "test['pred_price'] =  model_4.predict(test)"
   ]
  },
  {
   "cell_type": "code",
   "execution_count": null,
   "metadata": {
    "ExecuteTime": {
     "end_time": "2020-11-30T08:46:32.199234Z",
     "start_time": "2020-11-30T08:46:32.187682Z"
    }
   },
   "outputs": [],
   "source": [
    "MAPE = ((abs(test['price'] - test['pred_price']))/(test['price'])).mean()*100"
   ]
  },
  {
   "cell_type": "code",
   "execution_count": null,
   "metadata": {
    "ExecuteTime": {
     "end_time": "2020-11-30T08:46:33.694769Z",
     "start_time": "2020-11-30T08:46:33.683072Z"
    }
   },
   "outputs": [],
   "source": [
    "MAPE"
   ]
  },
  {
   "cell_type": "code",
   "execution_count": null,
   "metadata": {
    "ExecuteTime": {
     "end_time": "2020-11-27T15:42:48.155936Z",
     "start_time": "2020-11-27T15:42:48.144306Z"
    }
   },
   "outputs": [],
   "source": [
    "df.columns"
   ]
  },
  {
   "cell_type": "code",
   "execution_count": null,
   "metadata": {
    "ExecuteTime": {
     "end_time": "2020-11-27T15:40:09.023023Z",
     "start_time": "2020-11-27T15:40:09.008981Z"
    }
   },
   "outputs": [],
   "source": [
    "model_3.predict()"
   ]
  },
  {
   "cell_type": "code",
   "execution_count": null,
   "metadata": {
    "ExecuteTime": {
     "end_time": "2020-11-27T14:51:19.567393Z",
     "start_time": "2020-11-27T14:51:19.248270Z"
    }
   },
   "outputs": [],
   "source": [
    "residuals = model_3.resid\n",
    "sns.distplot(model_3.resid)"
   ]
  },
  {
   "cell_type": "code",
   "execution_count": null,
   "metadata": {
    "ExecuteTime": {
     "end_time": "2020-11-27T14:51:23.076738Z",
     "start_time": "2020-11-27T14:51:23.060753Z"
    }
   },
   "outputs": [],
   "source": [
    "predictions = model_3.predict()"
   ]
  },
  {
   "cell_type": "code",
   "execution_count": null,
   "metadata": {
    "ExecuteTime": {
     "end_time": "2020-11-27T14:51:25.594922Z",
     "start_time": "2020-11-27T14:51:25.389387Z"
    }
   },
   "outputs": [],
   "source": [
    "# Check with Residuals vs. Fitted scatterplot\n",
    "sns.scatterplot(predictions, residuals)\n",
    "plt.xlabel('Predicted weight')\n",
    "plt.ylabel('Residual weight')"
   ]
  },
  {
   "cell_type": "code",
   "execution_count": null,
   "metadata": {
    "ExecuteTime": {
     "end_time": "2020-11-27T14:30:27.397268Z",
     "start_time": "2020-11-27T14:30:27.383198Z"
    },
    "scrolled": true
   },
   "outputs": [],
   "source": [
    "from pandas.plotting import lag_plot\n",
    "from pandas.plotting import autocorrelation_plot\n"
   ]
  },
  {
   "cell_type": "code",
   "execution_count": null,
   "metadata": {
    "ExecuteTime": {
     "end_time": "2020-11-27T14:38:40.565595Z",
     "start_time": "2020-11-27T14:38:40.393563Z"
    }
   },
   "outputs": [],
   "source": [
    "lag_plot(df['price'], lag=1)"
   ]
  },
  {
   "cell_type": "code",
   "execution_count": null,
   "metadata": {
    "ExecuteTime": {
     "end_time": "2020-11-27T16:01:38.808469Z",
     "start_time": "2020-11-27T16:01:38.533838Z"
    },
    "scrolled": true
   },
   "outputs": [],
   "source": [
    "df['price'].plot()"
   ]
  },
  {
   "cell_type": "code",
   "execution_count": null,
   "metadata": {
    "ExecuteTime": {
     "end_time": "2020-11-27T16:01:40.672859Z",
     "start_time": "2020-11-27T16:01:40.422642Z"
    },
    "scrolled": false
   },
   "outputs": [],
   "source": [
    "df['coal_price'].plot()"
   ]
  },
  {
   "cell_type": "code",
   "execution_count": null,
   "metadata": {
    "ExecuteTime": {
     "end_time": "2020-11-27T14:30:29.177542Z",
     "start_time": "2020-11-27T14:30:28.980993Z"
    },
    "scrolled": true
   },
   "outputs": [],
   "source": [
    "autocorrelation_plot(df['temp'])"
   ]
  },
  {
   "cell_type": "code",
   "execution_count": null,
   "metadata": {
    "ExecuteTime": {
     "end_time": "2020-11-27T14:51:41.947007Z",
     "start_time": "2020-11-27T14:51:39.412267Z"
    },
    "scrolled": true
   },
   "outputs": [],
   "source": [
    "fig = plt.figure(figsize=(10,36))\n",
    "fig = sm.graphics.plot_partregress_grid(model_3, fig=fig)"
   ]
  },
  {
   "cell_type": "code",
   "execution_count": null,
   "metadata": {
    "ExecuteTime": {
     "end_time": "2020-11-27T14:51:35.837431Z",
     "start_time": "2020-11-27T14:51:35.779267Z"
    }
   },
   "outputs": [],
   "source": [
    "model = smf.ols(formula=formula, data=df).fit()"
   ]
  },
  {
   "cell_type": "code",
   "execution_count": null,
   "metadata": {
    "ExecuteTime": {
     "end_time": "2020-11-27T14:51:37.358241Z",
     "start_time": "2020-11-27T14:51:37.324055Z"
    }
   },
   "outputs": [],
   "source": [
    "model.summary()"
   ]
  },
  {
   "cell_type": "code",
   "execution_count": null,
   "metadata": {},
   "outputs": [],
   "source": [
    "data_train, data_test = train_test_split"
   ]
  },
  {
   "cell_type": "code",
   "execution_count": null,
   "metadata": {
    "ExecuteTime": {
     "end_time": "2020-11-27T15:02:38.925306Z",
     "start_time": "2020-11-27T15:02:38.905276Z"
    }
   },
   "outputs": [],
   "source": [
    "# from sklearn.model_selection import train_test_split\n",
    "\n",
    "# # Ready X and y\n",
    "# X = df.drop(['price', 'feels_like'], axis=1)\n",
    "# y = df['price']\n",
    "\n",
    "# # Split into Train/Test\n",
    "# X_train, X_test, y_train, y_test = train_test_split(X, y, test_size=0.3,random_state = 4)"
   ]
  },
  {
   "cell_type": "code",
   "execution_count": null,
   "metadata": {
    "ExecuteTime": {
     "end_time": "2020-11-27T15:05:05.827130Z",
     "start_time": "2020-11-27T15:05:05.793628Z"
    }
   },
   "outputs": [],
   "source": [
    "lin_model = LinearRegression()\n",
    "\n",
    "# Train the model on the Training data\n",
    "lin_model.fit(X_train, y_train)\n",
    "\n",
    "# Score the model on the Training data\n",
    "lin_model.score(X_train,y_train)"
   ]
  },
  {
   "cell_type": "code",
   "execution_count": null,
   "metadata": {
    "ExecuteTime": {
     "end_time": "2020-11-27T15:05:19.676403Z",
     "start_time": "2020-11-27T15:05:19.657638Z"
    }
   },
   "outputs": [],
   "source": [
    "# Score the model on the Testing data\n",
    "lin_model.score(X_test,y_test)"
   ]
  },
  {
   "cell_type": "code",
   "execution_count": null,
   "metadata": {
    "ExecuteTime": {
     "end_time": "2020-11-27T16:29:14.210397Z",
     "start_time": "2020-11-27T16:29:14.192345Z"
    }
   },
   "outputs": [],
   "source": [
    "from sklearn.metrics import mean_squared_error"
   ]
  },
  {
   "cell_type": "code",
   "execution_count": null,
   "metadata": {
    "ExecuteTime": {
     "end_time": "2020-11-27T16:49:05.916915Z",
     "start_time": "2020-11-27T16:49:05.902393Z"
    }
   },
   "outputs": [],
   "source": [
    "y_pred = model_3.predict()"
   ]
  },
  {
   "cell_type": "code",
   "execution_count": null,
   "metadata": {
    "ExecuteTime": {
     "end_time": "2020-11-27T16:49:07.661308Z",
     "start_time": "2020-11-27T16:49:07.644992Z"
    }
   },
   "outputs": [],
   "source": [
    "import math\n",
    "\n",
    "mse = mean_squared_error(y, y_pred)\n",
    "\n",
    "rmse = math.sqrt(mse)"
   ]
  },
  {
   "cell_type": "code",
   "execution_count": null,
   "metadata": {
    "ExecuteTime": {
     "end_time": "2020-11-27T16:49:08.621143Z",
     "start_time": "2020-11-27T16:49:08.611066Z"
    }
   },
   "outputs": [],
   "source": [
    "rmse"
   ]
  }
 ],
 "metadata": {
  "kernelspec": {
   "display_name": "Python 3",
   "language": "python",
   "name": "python3"
  },
  "language_info": {
   "codemirror_mode": {
    "name": "ipython",
    "version": 3
   },
   "file_extension": ".py",
   "mimetype": "text/x-python",
   "name": "python",
   "nbconvert_exporter": "python",
   "pygments_lexer": "ipython3",
   "version": "3.7.7"
  },
  "toc": {
   "base_numbering": 1,
   "nav_menu": {},
   "number_sections": true,
   "sideBar": true,
   "skip_h1_title": false,
   "title_cell": "Table of Contents",
   "title_sidebar": "Contents",
   "toc_cell": false,
   "toc_position": {},
   "toc_section_display": true,
   "toc_window_display": false
  },
  "varInspector": {
   "cols": {
    "lenName": 16,
    "lenType": 16,
    "lenVar": 40
   },
   "kernels_config": {
    "python": {
     "delete_cmd_postfix": "",
     "delete_cmd_prefix": "del ",
     "library": "var_list.py",
     "varRefreshCmd": "print(var_dic_list())"
    },
    "r": {
     "delete_cmd_postfix": ") ",
     "delete_cmd_prefix": "rm(",
     "library": "var_list.r",
     "varRefreshCmd": "cat(var_dic_list()) "
    }
   },
   "types_to_exclude": [
    "module",
    "function",
    "builtin_function_or_method",
    "instance",
    "_Feature"
   ],
   "window_display": false
  }
 },
 "nbformat": 4,
 "nbformat_minor": 4
}
